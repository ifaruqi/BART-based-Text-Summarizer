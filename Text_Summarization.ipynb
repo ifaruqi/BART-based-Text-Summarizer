{
 "cells": [
  {
   "cell_type": "markdown",
   "metadata": {
    "id": "blLp3m4AjJ5L"
   },
   "source": [
    "<h1><center>Text Summarization Python Code Using PDF File As An Input - Group 16"
   ]
  },
  {
   "cell_type": "markdown",
   "metadata": {},
   "source": [
    "Note: Please execute this .ipynb file on ***google colab*** so that the text summarization interface included at the end of this file works best."
   ]
  },
  {
   "cell_type": "markdown",
   "metadata": {},
   "source": [
    "The code below explain the steps to perform text summarization with PDF file as an input. The user will be required to upload the file and then pick the summarization method (Extractive or Abstractive).\n",
    "\n",
    "The code will include the following functionalities:\n",
    "* Taking PDF file as an input\n",
    "* Performing data cleaning \n",
    "* Summarizing the text content\n",
    "* Simple web interface for the user to try on"
   ]
  },
  {
   "cell_type": "markdown",
   "metadata": {},
   "source": [
    "***"
   ]
  },
  {
   "cell_type": "markdown",
   "metadata": {
    "id": "JQGxUjCajVqQ"
   },
   "source": [
    "# Section 1 - Packages and Dependencies"
   ]
  },
  {
   "cell_type": "markdown",
   "metadata": {},
   "source": [
    "Note: All packages and dependencies used in this code file are explained in the Report"
   ]
  },
  {
   "cell_type": "markdown",
   "metadata": {},
   "source": [
    "Capture and quiet are added in every chunk to prevent warning message to appear. This might not be the best practice, as the user may not be able to see warning or error message. It is done for the purpose of tidyness."
   ]
  },
  {
   "cell_type": "markdown",
   "metadata": {},
   "source": [
    "### Installing Required Packages"
   ]
  },
  {
   "cell_type": "code",
   "execution_count": 19,
   "metadata": {
    "colab": {
     "base_uri": "https://localhost:8080/",
     "height": 714
    },
    "id": "e7TX4mA2jI_Z",
    "outputId": "923bd405-996c-4a7a-ae57-6f696ddc3030"
   },
   "outputs": [],
   "source": [
    "%%capture\n",
    "pip install PyDictionary --quiet"
   ]
  },
  {
   "cell_type": "code",
   "execution_count": 10,
   "metadata": {
    "colab": {
     "base_uri": "https://localhost:8080/"
    },
    "id": "Sp5tSogqjgyA",
    "outputId": "289e6680-7fff-4d70-987c-81937d8aa3d7"
   },
   "outputs": [],
   "source": [
    "%%capture\n",
    "pip install summa --quiet"
   ]
  },
  {
   "cell_type": "code",
   "execution_count": 3,
   "metadata": {},
   "outputs": [],
   "source": [
    "%%capture\n",
    "pip install spacy --quiet"
   ]
  },
  {
   "cell_type": "code",
   "execution_count": 4,
   "metadata": {
    "colab": {
     "base_uri": "https://localhost:8080/"
    },
    "id": "YnYzgr1HkZB-",
    "outputId": "048c494a-c236-4f23-9203-01f4626dee40"
   },
   "outputs": [],
   "source": [
    "%%capture\n",
    "pip install transformers --quiet"
   ]
  },
  {
   "cell_type": "code",
   "execution_count": 5,
   "metadata": {
    "colab": {
     "base_uri": "https://localhost:8080/"
    },
    "id": "oLa5RSwYkZWS",
    "outputId": "9591eac3-9d54-44f8-fef4-d272eb7e182c"
   },
   "outputs": [],
   "source": [
    "%%capture\n",
    "pip install torch --quiet"
   ]
  },
  {
   "cell_type": "code",
   "execution_count": 6,
   "metadata": {
    "colab": {
     "base_uri": "https://localhost:8080/"
    },
    "id": "pRTttBPJkZjk",
    "outputId": "7aff36c4-c007-4ae3-e6c2-ee4287f0c22e"
   },
   "outputs": [],
   "source": [
    "%%capture\n",
    "pip install sentencepiece --quiet"
   ]
  },
  {
   "cell_type": "code",
   "execution_count": 7,
   "metadata": {
    "colab": {
     "base_uri": "https://localhost:8080/",
     "height": 536
    },
    "id": "-9w6-JkrlDA9",
    "outputId": "50b74e8f-1104-4965-fc4c-2ad63afc7bdc"
   },
   "outputs": [],
   "source": [
    "%%capture\n",
    "pip install pdfplumber --quiet"
   ]
  },
  {
   "cell_type": "code",
   "execution_count": 12,
   "metadata": {},
   "outputs": [],
   "source": [
    "%%capture\n",
    "pip install ipywidgets"
   ]
  },
  {
   "cell_type": "code",
   "execution_count": 14,
   "metadata": {},
   "outputs": [],
   "source": [
    "%%capture\n",
    "pip install Pillow==9.0.0 --quiet"
   ]
  },
  {
   "cell_type": "code",
   "execution_count": 23,
   "metadata": {},
   "outputs": [],
   "source": [
    "%%capture\n",
    "pip install nltk"
   ]
  },
  {
   "cell_type": "markdown",
   "metadata": {},
   "source": [
    "### Loading Packages"
   ]
  },
  {
   "cell_type": "code",
   "execution_count": 24,
   "metadata": {
    "id": "LGWQR7GXjizr"
   },
   "outputs": [],
   "source": [
    "# for string manipulation and regular expressions\n",
    "import re\n",
    "import string\n",
    "\n",
    "# Natural Language Processing libraries and modules\n",
    "import nltk\n",
    "from nltk.corpus import stopwords\n",
    "from nltk.tokenize import word_tokenize, sent_tokenize\n",
    "from nltk.corpus import wordnet\n",
    "import spacy\n",
    "import heapq\n",
    "from summa import summarizer\n",
    "\n",
    "# interactive displays and user interface components\n",
    "from IPython.display import display, HTML\n",
    "import ipywidgets as widgets\n",
    "\n",
    "# hugging face transformers library for nlp and deep learning models\n",
    "from transformers import pipeline\n",
    "from transformers import AutoTokenizer\n",
    "\n",
    "# library to import a pdf file\n",
    "import pdfplumber\n",
    "import logging"
   ]
  },
  {
   "cell_type": "code",
   "execution_count": 25,
   "metadata": {},
   "outputs": [],
   "source": [
    "%%capture\n",
    "!python -m spacy download en_core_web_sm"
   ]
  },
  {
   "cell_type": "code",
   "execution_count": 27,
   "metadata": {
    "colab": {
     "base_uri": "https://localhost:8080/"
    },
    "id": "paX5JzkMkBFe",
    "outputId": "74841e3f-1378-4e7d-9a29-fb78ba7171de"
   },
   "outputs": [],
   "source": [
    "%%capture\n",
    "nlp = spacy.load('en_core_web_sm')\n",
    "nltk.download('stopwords')\n",
    "nltk.download('punkt')\n",
    "nltk.download('wordnet')\n",
    "nltk.download('omw-1.4')"
   ]
  },
  {
   "cell_type": "code",
   "execution_count": 28,
   "metadata": {},
   "outputs": [],
   "source": [
    "# Load the transformer and tokenizer for Abstractive Text Summarization\n",
    "from transformers import pipeline\n",
    "from transformers import AutoTokenizer"
   ]
  },
  {
   "cell_type": "markdown",
   "metadata": {
    "id": "8DC0_gxDnP7y"
   },
   "source": [
    "***"
   ]
  },
  {
   "cell_type": "markdown",
   "metadata": {},
   "source": [
    "# Section 2 - Functions for Extractive and Abstractive Summarization"
   ]
  },
  {
   "cell_type": "markdown",
   "metadata": {
    "id": "kakoPtoYyEUu"
   },
   "source": [
    "## Section 2.1: Extractive Summarization"
   ]
  },
  {
   "cell_type": "markdown",
   "metadata": {},
   "source": [
    "The below function i.e. ***extractive_pdf()*** performs extractive text summarization by assigning scores to sentences based on the frequencies of non-stopwords in the text and selecting the top-scoring sentences as the summary.\n",
    "Please refer to the [link](https://github.com/Amey-Thakur/TEXT-SUMMARIZER/blob/main/nltk_summarization.py) for the motivation of the function below."
   ]
  },
  {
   "cell_type": "markdown",
   "metadata": {},
   "source": [
    "\n",
    "\n",
    "*   Modify ***line # 37*** in the below code to change the number of sentences in the extractive summary.\n",
    "*   We used the logic of using 30 as a cutoff in the code is to limit the length of the sentences that are considered for scoring. If a sentence exceeds 30 words, it will be excluded from the scoring process and will not contribute to the final summary; the reason for using this cutoff is to prioritize shorter sentences, as longer sentences may contain more information and be less indicative of the main points of the text. By focusing on shorter sentences, the code aims to extract concise and important information for the summary.\n",
    "Consider modifying ***line # 29*** if you wish to change the cut-off\n",
    "\n"
   ]
  },
  {
   "cell_type": "code",
   "execution_count": 29,
   "metadata": {
    "id": "sDIhDNdAwQzo"
   },
   "outputs": [],
   "source": [
    "def extractive_pdf(cleaned_text):\n",
    "    stopWords = set(stopwords.words(\"english\"))\n",
    "    word_frequencies = {}\n",
    "    for word in nltk.word_tokenize(cleaned_text):\n",
    "        if word not in stopWords:\n",
    "            if word not in word_frequencies.keys():\n",
    "                word_frequencies[word] = 1\n",
    "            else:\n",
    "                word_frequencies[word] += 1\n",
    "\n",
    "    maximum_frequency = max(word_frequencies.values())\n",
    "\n",
    "    for word in word_frequencies.keys():\n",
    "        word_frequencies[word] = (word_frequencies[word] / maximum_frequency)\n",
    "\n",
    "    sentence_list = nltk.sent_tokenize(cleaned_text)\n",
    "    sentence_scores = {}\n",
    "    for sent in sentence_list:\n",
    "        for word in nltk.word_tokenize(sent.lower()):\n",
    "            if word in word_frequencies.keys():\n",
    "                if len(sent.split(' ')) < 30:\n",
    "                    if sent not in sentence_scores.keys():\n",
    "                        sentence_scores[sent] = word_frequencies[word]\n",
    "                    else:\n",
    "                        sentence_scores[sent] += word_frequencies[word]\n",
    "\n",
    "    summary_sentences = heapq.nlargest(3, sentence_scores, key=sentence_scores.get)\n",
    "\n",
    "    summary = ' '.join(summary_sentences)\n",
    "    return summary"
   ]
  },
  {
   "cell_type": "markdown",
   "metadata": {
    "id": "IssFuBUgxLn3"
   },
   "source": [
    "## Section 2.2: Abstractive Summarization"
   ]
  },
  {
   "cell_type": "markdown",
   "metadata": {},
   "source": [
    "The below function i.e. ***abstractive_pdf()*** performs abstractive text summarization by using BART (Bidirectional and AutoRegressive Transformers) architecture and has been pretrained on a large corpus of text data.\n",
    "\n",
    "In this project, DistilBART model is used. The model is pre-trained with CNN Daily News data. Sources: __[DistilBART](https://huggingface.co/sshleifer/distilbart-cnn-12-6)__"
   ]
  },
  {
   "cell_type": "code",
   "execution_count": 45,
   "metadata": {
    "id": "Knc7tedDPjfG"
   },
   "outputs": [],
   "source": [
    "def abstractive_pdf(all_text):\n",
    "    import warnings\n",
    "    warnings.filterwarnings('ignore')\n",
    "\n",
    "    import logging\n",
    "    # Set the logging level to suppress the warning\n",
    "    logging.getLogger(\"transformers.tokenization_utils_base\").setLevel(logging.ERROR)\n",
    "\n",
    "    logging.getLogger(\"transformers\").setLevel(logging.ERROR)\n",
    "\n",
    "    # Initialize the model for summarization\n",
    "    summarization = pipeline(\"summarization\", model=\"sshleifer/distilbart-cnn-12-6\")\n",
    "\n",
    "    # Tokenize the text\n",
    "    tokenizer = AutoTokenizer.from_pretrained(\"sshleifer/distilbart-cnn-12-6\")\n",
    "    tokens = tokenizer.tokenize(all_text)\n",
    "    \n",
    "    # If the tokens exceed the maximum limit for BART model (1024 tokens), split the text into smaller chunks\n",
    "    max_length = 1000  # Maximum number of tokens in each chunk\n",
    "    tokenized_text = tokenizer.encode(all_text, add_special_tokens=False)\n",
    "    text_chunks = []\n",
    "    current_chunk = []\n",
    "    \n",
    "    # Split the text into chunks\n",
    "    for token in tokenized_text:\n",
    "        current_chunk.append(token)\n",
    "        if len(current_chunk) >= max_length:\n",
    "            chunk = tokenizer.decode(current_chunk)\n",
    "            text_chunks.append(chunk.strip())\n",
    "            current_chunk = []\n",
    "    \n",
    "    # Add the remaining tokens as the last chunk\n",
    "    if current_chunk:\n",
    "        chunk = tokenizer.decode(current_chunk)\n",
    "        text_chunks.append(chunk.strip())\n",
    "    \n",
    "    # Process each chunk and generate summaries\n",
    "    chunk_summaries = []\n",
    "    for chunk in text_chunks:\n",
    "        summary = summarization(chunk, max_length=300, min_length=30, num_beams=8, do_sample=True)[0][\"summary_text\"]\n",
    "        chunk_summaries.append(summary.strip())\n",
    "    \n",
    "    # Merge the summaries into a single text\n",
    "    merged_summary = \" \".join(chunk_summaries)\n",
    "\n",
    "    # Generate the final summary\n",
    "    if len(merged_summary) > 1000:\n",
    "        final_summary = summarization(merged_summary, max_length=len(merged_summary), min_length=300, num_beams=8, do_sample=True)[0][\"summary_text\"]\n",
    "    else:\n",
    "        final_summary = merged_summary\n",
    "        \n",
    "    return final_summary"
   ]
  },
  {
   "cell_type": "markdown",
   "metadata": {},
   "source": [
    "***"
   ]
  },
  {
   "cell_type": "markdown",
   "metadata": {},
   "source": [
    "## Section 3: Input PDF and Text Cleaning"
   ]
  },
  {
   "cell_type": "markdown",
   "metadata": {},
   "source": [
    "### Extracting Text from A PDF File"
   ]
  },
  {
   "cell_type": "code",
   "execution_count": 92,
   "metadata": {
    "id": "PJmUw5LqxZrm"
   },
   "outputs": [],
   "source": [
    "def input_pdf(file_name):\n",
    "    # Read pdf file and extract the text\n",
    "    with pdfplumber.open(file_name) as pdf:\n",
    "        all_text = ''\n",
    "        for page in pdf.pages:\n",
    "            text = page.extract_text()\n",
    "            all_text += text\n",
    "            \n",
    "    return all_text"
   ]
  },
  {
   "cell_type": "markdown",
   "metadata": {
    "id": "20_lnZV41haw"
   },
   "source": [
    "### Cleaning Extracted Text from A PDF File"
   ]
  },
  {
   "cell_type": "code",
   "execution_count": 177,
   "metadata": {},
   "outputs": [],
   "source": [
    "def text_cleaning(all_text):\n",
    "    \n",
    "    reference_pattern = r\"(?im)^\\s*\\d+\\.\\s*references|bibliography|reference|\\nReferences\\b\"\n",
    "\n",
    "    matches = re.findall(reference_pattern, all_text)\n",
    "    if matches:\n",
    "        last_match = matches[-1]\n",
    "        start_index = all_text.rfind(last_match)\n",
    "        clean_text = all_text[:start_index]\n",
    "    else:\n",
    "        clean_text = all_text\n",
    "        \n",
    "    \n",
    "    # Step 1: Remove numbers in brackets and at the end\n",
    "    clean_text = re.sub(r'\\[\\d+\\]|\\s\\d+$', ' ', clean_text)\n",
    "\n",
    "    # Step 2: Remove HTML links\n",
    "    clean_text = re.sub(r'\\b(?:https?://|www\\.)\\S+\\b', '', clean_text)\n",
    "\n",
    "    # Step 3: Remove email addresses\n",
    "    clean_text = re.sub(r'\\S+@\\S+', '', clean_text)\n",
    "\n",
    "    # Step 4: Regular expression pattern to identify headers, footers, and page numbers\n",
    "    header_footer_pattern = r'^\\s*\\d+\\s*|\\s*\\d+\\s*$|^\\s*\\w+\\s*|\\s*\\w+\\s*$'\n",
    "    clean_text = re.sub(header_footer_pattern, '', clean_text, flags=re.MULTILINE)\n",
    "\n",
    "    # Step 5: Perform additional text cleaning (e.g., remove extra spaces)\n",
    "    clean_text = ' '.join(clean_text.split())\n",
    "\n",
    "    # Step 6: Identify and remove specific patterns or content that are irrelevant to summarization\n",
    "    clean_text = re.sub(r'\\b(?:advertisement|footnote)\\b', '', clean_text, flags=re.IGNORECASE)\n",
    "    \n",
    "        \n",
    "    # Step 8: Remove metadata of an academic paper\n",
    "    metadata_patterns = [\n",
    "        r\"Journal of [A-Za-z\\s]+\",  # Example pattern for journal names\n",
    "        r\"Volume [0-9]+\",  # Example pattern for volume numbers\n",
    "        r\"Issue [0-9]+\",  # Example pattern for issue numbers\n",
    "        r\"Author: [A-Za-z\\s]+\",  # Example pattern for author names\n",
    "        r\"Keywords: [A-Za-z\\s]+\"# Add more patterns as needed\n",
    "    ]\n",
    "\n",
    "    for pattern in metadata_patterns:\n",
    "        clean_text = re.sub(pattern, \"\", clean_text)\n",
    "        \n",
    "    \n",
    "    return clean_text\n",
    "    "
   ]
  },
  {
   "cell_type": "markdown",
   "metadata": {},
   "source": [
    "### Taking a PDF Input from Users"
   ]
  },
  {
   "cell_type": "markdown",
   "metadata": {},
   "source": [
    "For convenience, it is recommended to put the file in the same directory as this .ipynb file. Then, when prompted to provide the file path, the user can then write : ./filename.pdf. The '.' indicate the current directory, and the rest indicate that the file is in the directory."
   ]
  },
  {
   "cell_type": "code",
   "execution_count": 187,
   "metadata": {
    "colab": {
     "base_uri": "https://localhost:8080/"
    },
    "id": "_GuSpkBPzZII",
    "outputId": "d6dff0b0-080a-4c1a-cc68-351a90719c2c"
   },
   "outputs": [
    {
     "name": "stdout",
     "output_type": "stream",
     "text": [
      "Enter the path to the PDF file: ./IJASEIT_143.pdf\n"
     ]
    }
   ],
   "source": [
    "# Ask the user to provide the file path\n",
    "file_path = input(\"Enter the path to the PDF file: \")\n",
    "\n",
    "# Extract all the text from the pdf file\n",
    "all_text = input_pdf(file_path)\n",
    "\n",
    "# Clean the extracted text\n",
    "clean_text = text_cleaning(all_text)\n"
   ]
  },
  {
   "cell_type": "markdown",
   "metadata": {},
   "source": [
    "***"
   ]
  },
  {
   "cell_type": "markdown",
   "metadata": {},
   "source": [
    "## Section 4: Web Interface for Text Summarization"
   ]
  },
  {
   "cell_type": "markdown",
   "metadata": {},
   "source": [
    "### Web Interface"
   ]
  },
  {
   "cell_type": "markdown",
   "metadata": {},
   "source": [
    "The code below handles form submissions and performs text summarization based on the selected type. It cleans the input text by removing numbers, special characters, and extra spaces. Depending on the summarization type chosen ('Extractive' or 'Abstractive'), it generates the corresponding type of summary using the 'cleaned text'. The resulting summarized text is displayed in HTML format along with a label indicating the type of summarization."
   ]
  },
  {
   "cell_type": "code",
   "execution_count": 33,
   "metadata": {
    "id": "aCb4PyAIvqtg"
   },
   "outputs": [],
   "source": [
    "def handle_form_submission(form_data):\n",
    "    summarization_type = form_data.get('summarization_type', '')\n",
    "\n",
    "    # Perform summarization based on the selected type\n",
    "    if summarization_type == 'Extractive':\n",
    "        summarized_text = extractive_pdf(clean_text)\n",
    "        summarization_label = 'Extractive Summarized Text:'\n",
    "    else:\n",
    "        summarized_text = abstractive_pdf(clean_text)\n",
    "        summarization_label = 'Abstractive Summarized Text:'\n",
    "\n",
    "    summary_html = f'''\n",
    "    <h3>{summarization_label}</h3>\n",
    "    <p>{summarized_text}</p>\n",
    "    '''\n",
    "\n",
    "    display(HTML(summary_html))"
   ]
  },
  {
   "cell_type": "markdown",
   "metadata": {},
   "source": [
    "The below code sets up a user interface for a text summarization application. It includes a submit button, input text area, and a dropdown menu to select the type of summarization. When the submit button is clicked, the input text and selected summarization type are captured, and the handle_form_submission function is called with the form data. The code also displays a heading and the UI elements for input and selection.\n",
    "\n",
    "Instruction to use the interface:\n",
    "\n",
    "**Step 1:** Make sure you already upload the pdf file you want to extract. This can be done by running the previous chunk of code (Taking a PDF Input from A User).\n",
    "\n",
    "**Step 2:** Select the type of summarization: Choose the summarization type from the dropdown menu labeled \"Summarization Type\". You have two options to choose from: \"Extractive\" or \"Abstractive\". Select the type that best suits your requirements or preferences.\n",
    "\n",
    "**Step 3:** Click the submit button: This will trigger the summarization process. The system will generate a summary based on your input and selected type, and it will be displayed below in HTML format along with a label indicating the type of summarization."
   ]
  },
  {
   "cell_type": "code",
   "execution_count": 195,
   "metadata": {
    "colab": {
     "base_uri": "https://localhost:8080/",
     "height": 132,
     "referenced_widgets": [
      "44cc2351c5694c159a24915c813fa9c4",
      "6becc727d3b54ce0811fe9fd5f353fc5",
      "476cecfa2b0948b2bbd33970234f12fa",
      "f688d9f8005d4012b73dbefd5ef066f7",
      "f4212788cca7417eba82e99b424ebe45",
      "f13301594d254a0ab34de8847026fa99",
      "52f25255dfb54e7cbb62e8f97dbb6eb6",
      "f144cfd28a4c4280ac7313dcefc61cb8",
      "4157d9252c83432ea6a81f30c8c62ca6"
     ]
    },
    "id": "RihV_YIHuwuz",
    "outputId": "36541580-bd9c-4ad1-ca15-583175bf5d4c"
   },
   "outputs": [
    {
     "data": {
      "application/vnd.jupyter.widget-view+json": {
       "model_id": "5ae62ae3dc174c8e9e09fcfcdb747bd4",
       "version_major": 2,
       "version_minor": 0
      },
      "text/plain": [
       "HTML(value='<h1>PDF Summarizer Group 16</h1>')"
      ]
     },
     "metadata": {},
     "output_type": "display_data"
    },
    {
     "data": {
      "application/vnd.jupyter.widget-view+json": {
       "model_id": "ff799698f62a425fa99702ab2712d7fe",
       "version_major": 2,
       "version_minor": 0
      },
      "text/plain": [
       "Dropdown(description='Summarization Type:', options=('Extractive', 'Abstractive'), value='Extractive')"
      ]
     },
     "metadata": {},
     "output_type": "display_data"
    },
    {
     "data": {
      "application/vnd.jupyter.widget-view+json": {
       "model_id": "1b08faefdaf54aa88c3c3203c1d4af11",
       "version_major": 2,
       "version_minor": 0
      },
      "text/plain": [
       "Button(description='Submit', style=ButtonStyle())"
      ]
     },
     "metadata": {},
     "output_type": "display_data"
    },
    {
     "data": {
      "text/html": [
       "\n",
       "    <h3>Extractive Summarized Text:</h3>\n",
       "    <p>(𝑘)=𝑓(𝑥(𝑘−1),𝑢(𝑘−1),𝑤), (1) (𝑘)=ℎ(𝑥(𝑘−1),𝑞), (2) 𝑥,𝑢 and 𝑦 denote the state, input, and output variables, respectively, while 𝑤 and 𝑞 are the process and measurement noises, . /(𝑘|𝑘)= 𝑥/(𝑘|𝑘−1)+𝐾(𝑘)𝑜(𝑘), (20) (𝑘|𝑘)=𝑃(𝑘|𝑘−1)−𝐾(𝑘)𝑅 (𝑘|𝑘−1)𝐾/(𝑘). (8) \" \" \"*+ a result, the prediction error (𝑒 ) and covariance (𝑃(𝑘|𝑘−1)) may then be determined (,\" =𝒳(𝑘|𝑘−1)−𝑥/(𝑘|𝑘−1), (9) (,\" \" )%!</p>\n",
       "    "
      ],
      "text/plain": [
       "<IPython.core.display.HTML object>"
      ]
     },
     "metadata": {},
     "output_type": "display_data"
    },
    {
     "data": {
      "text/html": [
       "\n",
       "    <h3>Abstractive Summarized Text:</h3>\n",
       "    <p> Communication-based train control (CBTC) system is an advanced train signalling and control technology using the moving block signalling (MBS) framework . The proposed UKF-based SF method effectively estimates the positions of both train based and RFID reader data . RFID tags play the role of balises in real railway system, whereas collects all sensor data and then sends them to a computer located in the wayside unit . The localization algorithm is to predict the train position using train speed data from encoder . We extend this approach to more general curved track lines through introduction of an algorithm which maps curved train segments into line track . Two train miniatures are equipped with encoder while twelve RFID readers and a NodeMCU microcontroller as wayside sensor and onboard controller . The proposal to reduce train headways and travel time can be used to indicate that each train is slowing down and/or comes to a stop . Figure shows that the distribution of each mark dense in each of the defined station to indicate each train was denser in each station to indicated that the train was slowing down or coming to a halt . Figure from the proposed SF method shows that each mark is dense in the defined stations to indicate the trains are slowing down, or stopping to stop at a stop, or slowing down in a station . MBS scheme implementation under the proposed synchronization control approach successfully reduces train headway and travel times . It successfully reduce train headsways and significantly reduces train travel time in the proposed implementation successfully reduce</p>\n",
       "    "
      ],
      "text/plain": [
       "<IPython.core.display.HTML object>"
      ]
     },
     "metadata": {},
     "output_type": "display_data"
    }
   ],
   "source": [
    "def on_submit_button_clicked(b):\n",
    "    form_data = {\n",
    "        'summarization_type': summarization_type.value,\n",
    "        'all_text': all_text\n",
    "    }\n",
    "    handle_form_submission(form_data)\n",
    "\n",
    "\n",
    "submit_button = widgets.Button(description='Submit')\n",
    "submit_button.on_click(on_submit_button_clicked)\n",
    "\n",
    "summarization_type = widgets.Dropdown(description='Summarization Type:',\n",
    "                                      options=['Extractive', 'Abstractive'])\n",
    "\n",
    "# Display the heading\n",
    "heading = widgets.HTML(\"<h1>PDF Summarizer Group 16</h1>\")\n",
    "display(heading)\n",
    "display(summarization_type)\n",
    "display(submit_button)"
   ]
  },
  {
   "cell_type": "code",
   "execution_count": 190,
   "metadata": {},
   "outputs": [
    {
     "data": {
      "text/plain": [
       "'Leave this box blank\\nPlease be sure to check for spelling and grammar before submitting your paper.\\nAn Unscented Kalman Filter-based Synchronization Control Approach\\nfor Communication-Based Train Control Systems\\nIsmail Faruqi#, M. Brahma Waluya#, Yul Yunazwin Nazaruddin#,£,Tua Agustinus Tamba*,£, Augie Widyotriatmo#\\n#Instrumentation and Control Research Group, Institut Teknologi Bandung, Bandung 40142, Indonesia\\nE-mail: yul@tf.itb.ac.id\\n*Department of ElectricalEngineering, Parahyangan Catholic University, Bandung 40141, Indonesia\\nCorresponding E-mail: ttamba@unpar.ac.id\\n£National Center for Sustainable Transportation Technology (NCSTT), Bandung 40132, Indonesia\\nAbstract— Communication-based train control (CBTC) system is an advanced train signalling and control technology which is\\ndeveloped using the moving block signalling (MBS) framework. The CBTC system has been shown to be capable of improving the\\noperational efficiency, line capacity and safety of the railway operation. The main objective in implementingthe MBS framework in\\nCBTC system is to minimize the train headways through the utilization of an inter-train continuous communication system that\\ndetermine and control the position of each train more precisely. One important challenge in such an implementation is the fulfillment\\nof the necessary requirement of having highly accurate train localization method to ensure the safety of the short headway\\noperation.This paper describes the results from experimental examination and application of a synchronization control strategy for the\\nCBTC systemusing an unscented Kalman filter (UKF)-based sensor fusion approach as the localization method. The results presented\\nin this paper show that the proposed UKF-based localization and synchronization control methods can significantlyimprove the\\nlocalization accuracy and reduce the inter-train headways.\\nKeywords— CBTC, moving block signalling, synchronization control, unscented Kalman filter\\nI. INTRODUCTION\\nThe demand for more efficient rail transportation systems is currently increasing in Indonesia, especially in densely populated\\nregions such as the Greater Jakarta area of the DKI Jakarta province. For instance, the currently operating KRL Commuterline\\n(KRLC) that serves Jakarta and its neighboring cities has for a while been facing the issue of overcapacity. In particular, a recent\\nreport [1] has shown that the operational load of the KRLC in 2017 has reached as much as 860,000 passengers/day (with a 17%\\nannual growth rate) and causedsignificant overcapacity during the peak operational hours. Such an overcapacity is further\\ncomplicated by the suboptimal operational efficiency ofthe train traffic due to the use of agedsignalling and control systems with\\ndegradedperformance. Increasing the line capacity and at the same time ensuring the operational safety of the railway\\ntransportataion systems such as KRLC are therefore among the most important issues in Indonesian rail transport systems\\ndevelopment.\\nThe CBTC system is a modern advanced train signalling and control technologies which has been developed under the\\nframework of MBS scheme [2-4]. Unlike the more traditional fixed block signalling (FBS) scheme which partitions the rail track\\ninto several fixed/static sections or segments named \"blocks\" to determine the occupancy status of each of such blocks (cf. Fig.\\n1), the MBS scheme uses a continuous communication system which connects each train on the track and the wayside signalling\\nequipment to dynamically separate and maintain a safe distance between adjacent trains based on a predefined safe operational\\nscenario [2] (cf. Fig. 2). In this regard, the MBS scheme has been shown to be capable of significantly reducing the headway of\\nadjacent trains and thus increasing the track line capacity. To ensure the accuracy and safety of the MBS scheme implementation\\nin CBTC system, more reliable train localization and control modules are inevitably needed.Fig. 1 Fixed block signalling (FBS) scheme.\\nFig. 2 Moving block signalling (MBS) scheme.\\nThe standard approach to perform the train localization task in the conventional FBS scheme mainly relies on the use of a\\nparticular track detection sensor such as track circuit or axle counter [3-4]. The main limitation of this approach is that it is a static\\nmethod which can only determine the occupancy status of a particular track segment (i.e. it does not provide real-time information\\nabout the exact position of each train in the occupied track segment). In order to implement the MBS scheme which requires real-\\ntime and accurate train position information, more reliable train localization methods are strictly needed. One such method is the\\nsensor fusion (SF) [5] approach which combines data from various sensors to produce more accurate real-time localization\\ninformation of moving objects such as trains. The SF method has been widely applied for real-time localization purposes in the\\nfields of robotics and unmanned autonomous systems.A large number of research results have particularly reported that the SF-\\nbased localization results are generally more accurate and reliable than those obtained using onlyindividual sensor information.\\nIn railway system applications, the SF-based localizationmethod was first introduced in [6] using linear Kalman filter (KF)\\nframework. Various SF-based localization methods were subsequently developed using such methods as extended Kalman filter\\n(EKF) [7] and its combination with GNSS [8-10], map matching [11], probabilistic weighted fusion algorithm [12], visual-aided\\nodometry [13], particle filtering [14] and probabilistic data fusion [15]. See e.g. [16] for a recent survey on train localization\\nmethods and developments.\\nThis paper reports the results of an experimental study and application of a SF-based synchronization control approach for the\\nMBS-based CBTC system. In the proposed approach, the train localization task is performed using an UKF-based SF method. As\\nhas been shown in [17-22], the UKF often gives better estimation results than those obtained by the EKF method, especially in\\nthe case highly nonlinear systems. In this paper, the UKF method is used to fuse measurement data from speed sensors and radio\\nfrequency identification (RFID) tags. As for the control algorithm, this paper develops an extension of a previously developed\\nsynchronization control approach [23] to allow its use on more general curved track lines. Experimental results which demonstrate\\nthe satisfactory performance of the proposed methods on a CBTC prototype are reported.\\nII. DISCRETE-TIME UKF ALGORITHM\\nIn essence, the UKF is a Bayesian-type estimation method which uses a probabilistic transformation to approximate the\\nstatistics of nonlinear systems [17-19]. Unlike the EKF method which propagates the states distribution through the first order\\nlinearization of the system dynamics, the UKF method instead generates a minimal set of carefully chosen sample points of the\\nstates distribution and then transforms it directly through the nonlinear model of the system. Such sample points, alsoknownas\\nsigma points, are chosen to capture the true first two moments of the state distribution. As such, when propagated through the\\nsystem model (cf. Fig. ), these points will also capture the posterior distribution of the system’s moments. In this regard, the UKF\\ndoes not suffer the linearization-induced suboptimality issue which often results in the EKF method.\\nFig. 3 An illustration of the sigma points transformation.\\nThe algorithmic implementation of the UKF is initialized with a set guesses on initial mean and covariance of the state variables,\\nand afterward followed by two main steps, namely prediction and correction steps. The prediction step aims to estimate the future\\nvalues of the state variables and output based on the results of sigma points transformation through the system’s nonlinear model.\\nWhen actual measurements are available, the algorithm switches to the correction steps which updates the previously obtained\\nstate and output predictions. These two steps are then executed recursively whenever new measurement data are available.\\nTo describe the algorithmic implementation of the UKF, consider the following discrete-time nonlinear system model.\\n𝑥(𝑘)=𝑓(𝑥(𝑘−1),𝑢(𝑘−1),𝑤), (1)\\n𝑦(𝑘)=ℎ(𝑥(𝑘−1),𝑞), (2)\\nwhere 𝑥,𝑢 and 𝑦 denote the state, input, and output variables, respectively, while 𝑤 and 𝑞 are the process and measurement noises,\\nrespectively. Let 𝑥/ and 𝑃 , respectively, denote the initial mean and covariance of the state variables. Then the initial probability\\n! !density function of the state variables can be defined and the recursion steps in the UKF can be performed as the following steps\\n(see also [22-23]).\\n1) Prediction Step\\nThe prediction step essentially performs the recursion of three tasks, namely state variables prediction, output variable\\nprediction and Kalman gain calculation.\\na) State variables prediction\\nSelect the initial set of sigma points 𝒳 and its weight 𝑊 to capture the PDF of the state variables. These may for instance\\n! \"\\ntake the following forms.\\n𝒳 =𝑥/(𝑘−1|𝑘−1), (3)\\n!\\n#\\n𝑊 = (4)\\n! (%!&#)\\nIn addition, the values of (3)-(4) at the k-th time step for the i-th state variables may be determined as follows.\\n𝒳 =𝑥/(𝑘−1|𝑘−1)\\n\"\\n+7(𝑁 +𝑗)𝑃(𝑘−1|𝑘−1) (5)\\n(\\n𝑊 =𝑗/2(𝑁 +𝑗) (6)\\n\" (\\nwhere 𝑁 denotes the dimension of state variables and 𝑗=3−𝑁 is a scaling parameter. These sigma points and weights\\n( (\\nmay then be transformed using the system state model in (1) to obtain a predicted value of the form\\n𝒳(𝑘|𝑘−1)= 𝑓(𝒳(𝑘−1|𝑘−1),𝑢(𝑘−1),𝑤) (7)\\n\" \"\\nIn this regard, the mean of the state variables can be determined using the so-called weighted statistical linear regression\\n(WSLR) method to obtain\\n)%!\\n𝑥/(𝑘|𝑘−1)=@𝑊𝒳(𝑘|𝑘−1). (8)\\n\" \"\\n\"*+\\nAs a result, the prediction error (𝑒 ) and covariance (𝑃(𝑘|𝑘−1)) may then be determined as\\n(,\"\\n𝑒 =𝒳(𝑘|𝑘−1)−𝑥/(𝑘|𝑘−1), (9)\\n(,\" \"\\n)%!\\n𝑃(𝑘|𝑘−1)=@𝑊[𝑒 ][𝑒 ]′+𝑅 , (10)\\n\" (,\" (,\" -\\n\"*+\\nwhere 𝑅 denotes the process noise covariance matrix.\\n-\\nb) Measurement prediction\\nUsing the state variables prediction, a set of sigma points 𝒴 for the output variables can be determined as\\n𝒴 (𝑘−1|𝑘−1)=𝒳(𝑘|𝑘−1) (11)\\n! \"\\n𝒴(𝑘−1|𝑘−1)= 𝒳(𝑘|𝑘−1)\\n\" \"\\n+𝑗7𝑅 (𝑘|𝑘−1) (12)\\n-\\nwith similar weighting values as the state variables sigma points. Correspondingly, the predicted sigma points of the output\\nvariables may also be obtained by transforming them through the system’s output model in (2) to obtain.\\n𝒴(𝑘|𝑘−1)=ℎ(𝒴(𝑘−1|𝑘−1),𝑞) (13)\\n\" \"\\nUsing the WSLR method, the predicted output variables may then be computed as)%!\\n𝑦/(𝑘|𝑘−1)=@𝑊𝒴(𝑘|𝑘−1) (14)\\n\" \"\\n\"*+\\nThe residual error є (𝑘|𝑘−1) and residual covariance 𝑅 (𝑘|𝑘−1) of the output prediction are given by\\n\" є\\nє (𝑘|𝑘−1)=𝒴 (𝑘|𝑘−1)−𝑦/(𝑘|𝑘−1) (15)\\n\" \"\"\\n)%!\\n𝑅 (𝑘|𝑘−1)=@𝑊 [є (𝑘|𝑘−1)][є (𝑘|𝑘−1)]/\\nє \" \" \"\\n\"*+\\n+𝑅 . (16)\\n0\\nwhere 𝑅 is the measurement noise covariance matrix.\\n0\\nc) Kalman gain calculation\\nBased on the previously obtained state variables and output predictions, the prediction cross covariance may then be\\ndetermined as follows.\\n)%!\\n𝑅 (𝑘|𝑘−1)=@𝑊 L𝑒 (𝑘|𝑘−1)M[є (𝑘|𝑘−1)]/\\n(є \" (,\" \"\\n\"*+\\n+𝑅 . (17)\\n0\\nAt this point, the Kalman gain of the UKF may then be updated recursively as\\n𝐾(𝑘)=𝑅 (𝑘|𝑘−1)𝑅1+(𝑘|𝑘−1). (18)\\n(є є\\n2) Correction Step\\nThe correction step utilizes the actual measurement data from sensors (𝑧(𝑘)) to make corrections on the computed state\\nvariables and output predictions. By using a similar routine as in the generic KF method, the correction begins with the calculation\\nof the innovation variable of the form\\n𝑜(𝑘)= 𝑧(𝑘)− 𝑦/(𝑘|𝑘−1). (19)\\nUsing the innovation 𝑜(𝑘), correction on the predicted state variables and covariance can be performed as follows.\\n𝑥/(𝑘|𝑘)= 𝑥/(𝑘|𝑘−1)+𝐾(𝑘)𝑜(𝑘), (20)\\n𝑃(𝑘|𝑘)=𝑃(𝑘|𝑘−1)−𝐾(𝑘)𝑅 (𝑘|𝑘−1)𝐾/(𝑘). (21)\\n2\\nThe corrected values of the state variables and covariance prediction are then used in the next prediction-correction iteration\\nrecursively [17-22].\\nIII. CBTC & SYNCHRONIZATION CONTROL\\nA. CBTC Systems\\nThe CBTC system generally consists of three major components, namely the wayside unit, on-board unit, and radio\\ncommunication module between wayside and on-board units [2-4, 24]. The on-board unit consists of (i) on-board position sensors\\nand (ii) computers which process all such sensors and use them to control the train speed. The wayside unit contains (i) the so-\\ncalled automatic train supervision (ATS) system which controls all of the operated trains, (ii) a zone controller and interlocking\\nsystem which manage some predetermined areas in certain track line, and (iii) positioning tags which calibrate the train position\\nas determined by the on-board unit.\\nThe MBS-based CBTC implementation relies on the so-called of movement authority which essentially is a real-time\\ninformation exchange system that provides to each train real-time location data as well as command of movement among trains\\nalong a particular track segment/area [24]. While the MBS-based CBTC has the potentialto increase the line capacity, its current\\nimplementation does not provide a synchronization scheme which can ensure the attainment of a minimum possible headway\\namong adjacent trains. The work in [23] has recently proposed a synchronization control scheme for MBS-based CBTC but its\\nimplementation remains limited to straight line track topology. In this work, we extend such a synchronization control approachto more general curved track lines through the introduction of an algorithm which maps curved train segments into appropriate\\nstraight line track.\\nB. Synchronization Control of CBTC\\nThe main objective of synchronization control approach in MBS-based CBTC system is to dynamically separate adjacent trains\\nby a minimum safety distance and maintain such a condition for a certain period of time duration. The theoretical development\\nof this approach was developed in [23] for a particular form of straight line track. The basic idea in synchronization control is\\nillustrated in Fig. 4 which shows that the controller will be activated whenever a train enters a safe distance zone as measured\\nrelative to the train in front of it. In particular, the controller will automatically adjust the braking of the following train, slowing\\nit down or accelerating it up until a stable minimum distance is achieved [23-24].\\n𝑣 𝑑 𝑑 𝑣\\n6 66 3 4\\nFig. 1 Activation of the synchronization control.\\nWith regard to Fig. 4, let us define the notion of safety margin (𝑑 ) which describes the measured distance between the tail\\n3\\n(𝑥 ) and the nose (𝑥 ) of adjacent trains when they are at rest. Furthermore, we also define the braking distance 𝑑 as an\\n45 6% 66\\nestimated travelled distance after a train hits the brakes until a complete stop, i.e.\\n𝑣)(𝑘)\\n𝑑 R𝑥 (𝑘),𝑣 (𝑘)T= 6 , (22)\\n66 6 6 2𝛽\\n7\\nwhere 𝑥 (𝑘) and 𝑣 (𝑘) denote, respectively, the position and velocity of the train B, and 𝛽 is the maximum braking rate of the\\n6 6 7\\ntrain (cf. Fig. 4). Now, we define the so-called minimum distance (𝑑 (𝑘)) of synchronization as the sum of the safety margin\\n89:\\n(𝑑 ) and the braking distance (𝑑 ), i.e.\\n3 66\\n𝑑 (𝑘)=𝑥 −𝑥 =𝑑 +𝑑 R𝑥 (𝑘),𝑣 (𝑘)T. (23)\\n89: 45 6% 3 66 6 6\\nIn the MBS scheme implementation, the leading train is allowed to halt suddely and is thus has a resemblance to the brick walls\\nphenomenon [4]. Under this assumption, the braking or decelerating dynamics of the following train (𝛽 ) can be derived by\\n6\\ndifferentiating (25) to obtain\\nd𝑥 d𝑥 d\\n45 − 6% = 𝑑 R𝑥 (𝑘),𝑣 (𝑘)T, (24)\\nd𝑘 d𝑘 d𝑘 66 6 6\\n𝜕𝑑 𝜕𝑑\\n𝑣 (𝑘)−𝑣 (𝑘)= 66 𝑣 (𝑘)− 66 𝛽 (𝑘), (25)\\n4 6 𝜕𝑥 6 𝜕𝑣 6\\n6 6\\nXY;<##Z+1[𝑣\\n(𝑘)−𝑣 (𝑘)\\n;(# 6 4\\n𝛽 (𝑘)= , (26)\\n6 ;<##\\n;=#\\nwhere 𝛽 is the the deceleration of the following train. As a result, the value of 𝛽 can be determined from (26) as\\n6 6\\nR𝑣 (𝑘)−𝑣 (𝑘)T\\n𝛽 (𝑘)=𝛽 6 4 (27)\\n6 7 𝑣 (𝑘)\\n6\\nwith 𝑣 ≠0 is assumed to hold. In the case where adjacent trains start to move from rest (both train speed are zero), the\\n6\\nacceleration of the leading (𝛼 ) and the following train (𝛼 ) can be computed as.\\n4 6\\n𝛼 (𝑘)=𝑘 𝛽 , (28)\\n4 >?? @\\nR−1+71+4𝑘 T\\n>??\\n𝛼 (𝑘)=𝛽 , (29)\\n6 7 2where 𝑘 is a constant.\\n>??\\nIV. EXPERIMENTAL IMPLEMENTATION SETUP\\nThis section presents the experimental results that were obtained after implementing the proposed UKF SF-based\\nsynchronization control methods on a lab scale CBTC system miniatyre track prototype as shown in Fig. 4.\\nA. Experimental Train Miniature\\nTwo train miniatures, denoted as train A and B are used in the experiment to perform the MBS scheme operation. As shown\\nin Fig. 4, three stations are defined on the track, namely the main station, station A and station B. The main station is where both\\ntrains can stop while each of the remaining two is where the corresponding train can stop. In the experiment scenario, each train\\nwill stop twice (each for a few seconds), the first at the main station and the second at their respective station.\\nFig. 1 Track dimension and RFID tags placement.\\nEach of the two train miniatures is equipped with encoder while twelve RFID readers and a NodeMCU microcontroller are\\nused as wayside sensor and onboard controller. The RFID tags play the role of balises in real railway system, whereas the\\nNodeMCU collects all sensor data and then send them to a computer located in the wayside unit through a wireless communication\\nlink and MQTT protocol. Inside the computer, the UKF-based SF algorithm is coded in Matlab. The localization algorithm is first\\ndeveloped to predict the train position using train speed data from encoder. Once the RFID data are available, the predicted\\nposition will then be calibrated using the proposed UKF-based SF method. Fig. 5 depicts the architecture of the experimental\\nsetup.\\nFig. 2 System architecture for sensor fusion.\\nB. UKF-based SF Implementation\\nTo follow the setup of the UKF method as described in Section 2, a model for the train miniature is first derived. In this regard,\\nthe train miniature is modeled as a rigid body with the following planar kinematic equation.\\n^𝑝 A( ‘=a1 0 b^𝑝 A( 1+ ‘+c𝑑𝑡 A1+cos(𝜃 A1+) k𝑣 (30)\\n𝑝B 0 1 𝑝B 𝑑𝑡 sin(𝜃 ) A1+\\nA A1+ A1+ A1+\\nwhere 𝑝( and 𝑝B denote, respectively, the Cartesian absis and ordinate position of the train at time k on the track, 𝜃 is the train\\nA A A\\norientation, and 𝑣 denotes the train speed at discrete time k. It can be seen that the train kinematic contains nonlinearities in the\\nA\\nform of trigonometric functions.To implement the SF task based on the UKF method, we developed a fusion scheme as shown in Fig. 6 to process the collected\\nsensor data. This diagram shows that two sensors are used in the experiment, i.e. encoder which measure the train speed and RFID\\ntag readers which detect the train exact position. From the characteristics of these sensors, we found that the exact form of the\\ntrain kinematic model in (30) is\\n^𝑝 A( ‘=a1 0 b^𝑝 A( 1+ ‘+0,3ccos(𝜃 A1+) k (31)\\n𝑝B 0 1 𝑝B sin(𝜃 )\\nA A1+ A1+\\nFig. 3 Sensor fusion scheme applied in the experiment\\nUsing the obtained system model, the UKF procedure for SF task can be implemented. The set of sigma points, weight, and\\nresidual covariance for the implementation are defined below. The values of related parameters in these equations are summarized\\nin Table 1. With these experimental model and parameters, the UKF-based SF procedure as described in Section 2 can be executed.\\n𝒳` =𝒳 +𝛼 (𝒳 −𝒳 ) (32)\\n\" ! EAF \" !\\n𝑊 1\\n⎧ ! +X −1[𝑖 =0\\n⎪𝛼 ) 𝛼 )\\nEAF EAF\\n𝑊` = (33)\\n\"\\n⎨ 𝑊𝑖\\n⎪ 𝑖 ≠0\\n⎩ 𝛼 )\\nEAF\\n𝑅` = (𝑊 +1+𝛽 −𝛼 ))R𝒴` −y/T5 R𝒴` −y/T\\nG ! EAF EAF ! !\\n+𝑅 (34)\\nє\\nTable 1 UKF parameter used in the algorithm\\nUKF Parameter\\nParameter Value Notes\\nStandard deviation of the used sensors. Smaller value indicates better accuracy\\nσ_enc : σ_RFID 7:400\\nand reliability.\\nRepresent the distribution of sigma points with respect to the mean value. Small\\nα_ukf 0.001\\nvalue means close-to-mean sigma points.\\nβ_ukf 2 Represents the system distribution where a value of 2 means Gaussion distribution\\nC. Synchronization Control Implementation\\nThe implementation of the synchronization control for MBS-based scheme was performed based on the following scenario\\nand rules.\\n• The two trains depart from the same initial station\\n• The following train maintains the safe distance with the leading train and must stop when the leading train is picking up\\npassengers at a station\\n• Both train arrive at the same station\\nEssentially, these conditions are used ensure a collison-free operation of the trains during the experiment. The used\\nsynchronization control algorithm receives the train position (𝑥 and 𝑥 ) from the UKF-based SF result as described in the\\n4 6\\nprevious subsection, whereas the train speed (𝑣 and 𝑣 ) are determined from encoder sensor data. The synchronization control\\n4 6\\ntask is evaluated using a predefined safe distance parameter of 𝑑 (𝑘)=27𝑐𝑚 and an acceleration rate of 𝑘 =−1. The\\n89: >??chosen minimum distance essentially means that the inter-train minimum distance is the same as the length of the train. Thus,\\nbased on the synchronization control approach as described in Section III, the acceleration/deccelaration rate (𝛽 ) of the following\\n6\\ntrain can be determined and then sent to the actuating motor to be calibrated to a train speed value (𝑣 ) of the form.\\n6\\n𝑣 (𝑘+1)=𝑣 (𝑘)+𝛽 (𝑘)Δ𝑡 (38)\\n6 6 6\\nwhere Δ𝑡 is the ampling time of the encoder.\\nV. RESULTS AND DISCUSSION\\nA. UKF-based SF Implementation Result\\nThe experimental evaluation of the proposed UKF-based SF is performed in two trials, the results of which are shown in Fig.\\n2 and Fig. 3. In these figures, the red cross and blue circle marks denote the position of Train A and Train B, respectively. It\\ncan be seen in these two plots that the proposed UKF-based SF method effectively estimates the positions of both train based on\\nencoder and RFID reader data. Moreover, the proposed localization method accurately show that the distribution of each mark is\\nmore dense in each of the defined station to indicate that each train is slowing down and/or comes to a stop.\\nFig. 2 UKF-based SF implementation result (trial 1).\\nFig. 3 UKF-based SF implementation result (trial 2).\\nTable 2 RMSE value of the train localization task.\\nRoot Mean Square Error Value (cm)\\nTrain Trial x_enc y_enc x_ukf y_ukf\\n1 3.2 7.6 0.5 0.8\\nA\\n2 5.6 4.3 0.8 0.8\\n1 3.3 3.4 0.7 0.7\\nB\\n2 3.4 4.7 0.6 0.8\\nAverage 3.9 5.0 0.7 0.8We further compare the performance of the localization when using single sensor data (i.e. encoder) and that when using the\\nSF method. Based on the summary of root mean square error (RMSE) results in Table 2, it can be seen that the estimation errors\\nof the SF-based localization method are significantly smaller than those based on single sensor data (both for individual train\\nposition estimation and in average). These results thus show that the the proposed UKF-based SF method has the potential to\\nimprove the accuracy of the train localization system at a significant level. The obtained high accuracy localization result is clearly\\nvery beneficial to support the CBTC implementation under the MBS scheme.\\nB. Synchronization Control Implementation Result\\nThe experimental evaluations of synchronization control as proposed in this paper are conducted to compare the train operation\\nperformance under the FBS scheme and that under MBS scheme with synchronization control. The results of these experiments\\nare shown in Fig. 4 and Fig. 5 which plot the graphs of Position vs Time of each train under the FBS and MBS scheme,\\nrespectively, for one full lap of the track. Both graphs in each of these figures essentially show the distance between the two trains\\nin a signaling block.\\nIt can be seen in these figures that the average inter-train distance in the FBS scheme is about 162 cm, whereas the inter-train\\ndistance in the MBS scheme that is equipped with the proposed synchronization control approach is only about 72 cm. These\\nresults thus show that, compared to the FBS scheme implementation, the proposed MBS with synchronization control approach\\nis capable of reducing the operational headway up to 56%. These figures also show that the two trains in the MBS with\\nsynchronization control scheme only need 7 seconds to complete one full, whereas the FBS scheme requires 16 seconds to\\ncomplete the same lap. These results thus clearly demonstrate the effectiveness of the proposed MBS with synchronization control\\napproach in reducing the train operational headway and travel time.\\nFig. 4 Position vs. time graph of two trains under FBS scheme.\\nFig. 5 Position vs. time graph of two trains under MBS system\\nVI. CONCLUSIONS\\nThis paper has reported the experimental results that were obtained when implementing a UKF-based sensor fusion approach\\nfor train localization in CBTC system under the MBS scheme. The presented localization results showed that the proposed UKF-\\nbased sensor fusion method significantly improve the accuracy of the train position estimation. Furthermore, the experimental\\nresults of the MBS scheme implementation under the proposed synchronization control approach successfully reduce the\\noperational train headways and travel time. These results suggest that the sensor fusion-based synchronization control approach\\nhas a promising potential to improve the performance of CBTC systems.ACKNOWLEDGMENT\\nThis works was supported by the P3MI Program 2018 at Institut Teknologi Bandung, and in part by USAID through the\\nSHERA program under grant no. IIE00000078-ITB-1.\\nREFERENCES\\n[1] Annual Report 2017, PT. Kereta Commuter Indonesia (retrieved from www.krl.co.id on 10 April 2019).\\n[2] M.J. Lockyear,“Changing track: moving-block railway signaling,” IEE Review,vol. 42, no. 1, pp. 21 – 25, 1996.\\n[3] C. Schifers and G. Hans. \"IEEE standard for communications-based train control (CBTC) performance and functional requirements.\" Proc. Vehicular\\nTechnology Conf., pp. 1581-1585. 2000.\\n[4] W. C. Carreño, Efficient Driving of CBTC ATO Operated Trains, PhD Dissertation, KTH Royal Institute of Technology, 2017.\\n[5] S. Thurn, W. Burgard, and D. Fox, Probabilistic Robotics, Boston, MA,USA: MIT Press, 2006.\\n[6] A. Mirabadi, N. Mort, and F. Schmid, \"Application of sensor fusion to railway systems,\" Proc. IEEE MFI, pp. 185-192, 1996.\\n[7] D. Veillard, F. Mailly, and P. Fraisse, \"EKF-based state estimation for train localization,\" IEEESensors, pp. 1-3, 2016.\\n[8] D. Lu, E. Schnieder, \"Performance evaluation of GNSS for train localization\", IEEE Trans. Intell. Transp. Syst., vol. 16, no. 2, pp. 1054-1059, 2015.\\n[9] J. Marais, J. Beugin, and M. Berbineau, \"A survey of GNSS-based research & developments for the European railway signaling,\" IEEE Trans. Intell.\\nTransp. Syst., vol. 18, no. 10, pp. 2602 - 2618, 2017.\\n[10] J. Otegui, A. Bahillo, I. Lopetegi, and L. E. Díez, \"Evaluation of experimental GNSS and 10-DOF MEMS IMU measurements for train positioning,\" IEEE\\nTrans. Instrum. Meas., vol. 68, no. 1, pp. 269-279, 2019.\\n[11] K. Kim, S.Seol, and S. Kong, \"High-speed train navigation system based on multi-sensor data fusion and map matching algorithm,\" Int. J. Control Autom.\\nSyst., vol. 13, no. 3, pp. 503–512, 2015.\\n[12] G. Muniandi and E. Deenadayalan, \"Train distance and speed estimation using multi sensor data fusion,\" IET Radar, Sonar and Navigation, vol. 13, no. 4,\\npp. 664-671, 2019.\\n[13] F. Tschopp et al., \"Experimental comparison of visual-aided odometry methods for rail vehicles,\" IEEE Robotics and Automation Letters, vol. 4, no. 2, pp.\\n1815-1822, 2019.\\n[14] M. Lauer and D. Stein, \"A train localization algorithm for train protection systems of the future,\" IEEE Trans. Intell. Transp. Syst., vol. 16, no. 2, pp. 970-\\n979, 2015.\\n[15] O. Heirich, \"Bayesian train localization with particle filter, loosely coupled GNSS, IMU, and a track map,\" Journal of Sensors, Art. 2672640, 2016.\\n[16] J. Otegui, A. Bahillo, I. Lopetegi, and L. E. Díez, \"A survey of train positioning solutions,\" IEEE Sensors Journal, vol. 17, no. 20, pp. 6788-6797, 2017.\\n[17] E. A. Wan and R. V. D. Merwe, \"The unscented Kalman filter for nonlinear estimation,\" Proc. IEEE ASSPCC, pp. 153-158, 2000.\\n[18] S. J. Julier and J. K. Uhlmann, \"A new extension of the Kalman filter to nonlinear system,\" Proc. Signal Processing, Sensor Fusion, and Target Recognition\\nVI, vol. 3068, pp. 182-194, 1997.\\n[19] S. J. Julier and J. K. Uhlmann, \"Unscented filtering and nonlinear estimation,\"Proc. IEEE, vol. 92, no. 3, pp. 401-422, 2004.\\n[20] S. J. Julier, \"The scaled unscented transformation,\" Proc. American Control Conf., pp. 4555-4559, 2002.\\n[21] I. Faruqi et al., \"Train localization using unscented Kalman filter–based sensor fusion,\" Int. J. Sust. Transp. Technol., vol. 1, no. 2, pp. 35-41, 2018.\\n[22] Y.Y. Nazaruddin et al., \"On using unscented Kalman filter based multi sensors fusion for train localization,\" Proc. ASCC, 2019.\\n[23] R. Takagi, \"Synchronisation control of trains on the railway track controlled by the moving block signalling system,\" IET Electric. Syst. Transp., vol. 2,\\nno. 3, pp. 130-138, September 2012.\\n[24] C. Bersani et al., \"Rapid, robust, distributed evaluation and control of train scheduling on a single line track,\" Control Eng. Pract., vol. 35, pp. 12-21, 2015.'"
      ]
     },
     "execution_count": 190,
     "metadata": {},
     "output_type": "execute_result"
    }
   ],
   "source": [
    "all_text"
   ]
  },
  {
   "cell_type": "code",
   "execution_count": 191,
   "metadata": {},
   "outputs": [
    {
     "data": {
      "text/plain": [
       "'this box be sure to check for spelling and grammar before submitting your paper. Unscented Kalman Filter-based Synchronization Control Communication-Based Train Control Faruqi#, M. Brahma Waluya#, Yul Yunazwin Nazaruddin#,£,Tua Agustinus Tamba*,£, Augie Widyotriatmo# #Instrumentation and Control Research Group, Institut Teknologi Bandung, Bandung 40142, -mail: *Department of ElectricalEngineering, Parahyangan Catholic University, Bandung 40141, E-mail: £National Center for Sustainable Transportation Technology (NCSTT), Bandung 40132, — Communication-based train control (CBTC) system is an advanced train signalling and control technology which using the moving block signalling (MBS) framework. The CBTC system has been shown to be capable of improving efficiency, line capacity and safety of the railway operation. The main objective in implementingthe MBS framework system is to minimize the train headways through the utilization of an inter-train continuous communication system and control the position of each train more precisely. One important challenge in such an implementation is the the necessary requirement of having highly accurate train localization method to ensure the safety of the short .This paper describes the results from experimental examination and application of a synchronization control strategy for systemusing an unscented Kalman filter (UKF)-based sensor fusion approach as the localization method. The results this paper show that the proposed UKF-based localization and synchronization control methods can significantlyimprove accuracy and reduce the inter-train headways. — CBTC, moving block signalling, synchronization control, unscented Kalman . demand for more efficient rail transportation systems is currently increasing in Indonesia, especially in densely such as the Greater Jakarta area of the DKI Jakarta province. For instance, the currently operating KRL (KRLC) that serves Jakarta and its neighboring cities has for a while been facing the issue of overcapacity. In particular, a has shown that the operational load of the KRLC in 2017 has reached as much as 860,000 passengers/day (with a 17% growth rate) and causedsignificant overcapacity during the peak operational hours. Such an overcapacity is by the suboptimal operational efficiency ofthe train traffic due to the use of agedsignalling and control systems . Increasing the line capacity and at the same time ensuring the operational safety of the systems such as KRLC are therefore among the most important issues in Indonesian rail transport . CBTC system is a modern advanced train signalling and control technologies which has been developed under of MBS scheme [2-4]. Unlike the more traditional fixed block signalling (FBS) scheme which partitions the rail several fixed/static sections or segments named \"blocks\" to determine the occupancy status of each of such blocks (cf. Fig. ), the MBS scheme uses a continuous communication system which connects each train on the track and the wayside to dynamically separate and maintain a safe distance between adjacent trains based on a predefined safe (cf. Fig. 2). In this regard, the MBS scheme has been shown to be capable of significantly reducing the headway trains and thus increasing the track line capacity. To ensure the accuracy and safety of the MBS scheme CBTC system, more reliable train localization and control modules are inevitably needed.Fig. 1 Fixed block signalling (FBS) scheme. . 2 Moving block signalling (MBS) scheme. standard approach to perform the train localization task in the conventional FBS scheme mainly relies on the use of track detection sensor such as track circuit or axle counter [3-4]. The main limitation of this approach is that it is a which can only determine the occupancy status of a particular track segment (i.e. it does not provide real-time the exact position of each train in the occupied track segment). In order to implement the MBS scheme which requires real- and accurate train position information, more reliable train localization methods are strictly needed. One such method is fusion (SF) approach which combines data from various sensors to produce more accurate real-time of moving objects such as trains. The SF method has been widely applied for real-time localization purposes in of robotics and unmanned autonomous systems.A large number of research results have particularly reported that the SF- localization results are generally more accurate and reliable than those obtained using onlyindividual sensor information. railway system applications, the SF-based localizationmethod was first introduced in using linear Kalman filter (KF) . Various SF-based localization methods were subsequently developed using such methods as extended Kalman (EKF) and its combination with GNSS [8-10], map matching , probabilistic weighted fusion algorithm , visual- , particle filtering and probabilistic data fusion . See e.g. for a recent survey on train and developments. paper reports the results of an experimental study and application of a SF-based synchronization control approach for -based CBTC system. In the proposed approach, the train localization task is performed using an UKF-based SF method. been shown in [17-22], the UKF often gives better estimation results than those obtained by the EKF method, especially case highly nonlinear systems. In this paper, the UKF method is used to fuse measurement data from speed sensors and identification (RFID) tags. As for the control algorithm, this paper develops an extension of a previously control approach to allow its use on more general curved track lines. Experimental results which satisfactory performance of the proposed methods on a CBTC prototype are reported. . DISCRETE-TIME UKF essence, the UKF is a Bayesian-type estimation method which uses a probabilistic transformation to approximate of nonlinear systems [17-19]. Unlike the EKF method which propagates the states distribution through the first of the system dynamics, the UKF method instead generates a minimal set of carefully chosen sample points of distribution and then transforms it directly through the nonlinear model of the system. Such sample points, points, are chosen to capture the true first two moments of the state distribution. As such, when propagated through model (cf. Fig. ), these points will also capture the posterior distribution of the system’s moments. In this regard, the not suffer the linearization-induced suboptimality issue which often results in the EKF method. . 3 An illustration of the sigma points transformation. algorithmic implementation of the UKF is initialized with a set guesses on initial mean and covariance of the state variables, afterward followed by two main steps, namely prediction and correction steps. The prediction step aims to estimate the of the state variables and output based on the results of sigma points transformation through the system’s nonlinear model. actual measurements are available, the algorithm switches to the correction steps which updates the previously and output predictions. These two steps are then executed recursively whenever new measurement data are available. describe the algorithmic implementation of the UKF, consider the following discrete-time nonlinear system model. (𝑘)=𝑓(𝑥(𝑘−1),𝑢(𝑘−1),𝑤), (1) (𝑘)=ℎ(𝑥(𝑘−1),𝑞), (2) 𝑥,𝑢 and 𝑦 denote the state, input, and output variables, respectively, while 𝑤 and 𝑞 are the process and measurement noises, . Let 𝑥/ and 𝑃 , respectively, denote the initial mean and covariance of the state variables. Then the initial ! !density function of the state variables can be defined and the recursion steps in the UKF can be performed as the following (see also [22-23]). ) Prediction prediction step essentially performs the recursion of three tasks, namely state variables prediction, output and Kalman gain calculation. ) State variables the initial set of sigma points 𝒳 and its weight 𝑊 to capture the PDF of the state variables. These may for ! \" the following forms. =𝑥/(𝑘−1|𝑘−1), (3) ! # = (4) ! (%!&#) addition, the values of (3)-(4) at the k-th time step for the i-th state variables may be determined as follows. =𝑥/(𝑘−1|𝑘−1) \" +7(𝑁 +𝑗)𝑃(𝑘−1|𝑘−1) (5) ( =𝑗/2(𝑁 +𝑗) (6) \" ( 𝑁 denotes the dimension of state variables and 𝑗=3−𝑁 is a scaling parameter. These sigma points and ( ( then be transformed using the system state model in (1) to obtain a predicted value of the (𝑘|𝑘−1)= 𝑓(𝒳(𝑘−1|𝑘−1),𝑢(𝑘−1),𝑤) (7) \" \" this regard, the mean of the state variables can be determined using the so-called weighted statistical linear (WSLR) method to )%! (8) \" \" \"*+ a result, the prediction error (𝑒 ) and covariance (𝑃(𝑘|𝑘−1)) may then be determined (,\" =𝒳(𝑘|𝑘−1)−𝑥/(𝑘|𝑘−1), (9) (,\" \" )%! ][𝑒 ]′+𝑅 , (10) \" (,\" (,\" - \"*+ 𝑅 denotes the process noise covariance matrix. - ) Measurement the state variables prediction, a set of sigma points 𝒴 for the output variables can be determined (𝑘−1|𝑘−1)=𝒳(𝑘|𝑘−1) (11) ! \" (𝑘−1|𝑘−1)= 𝒳(𝑘|𝑘−1) \" \" +𝑗7𝑅 (𝑘|𝑘−1) (12) - similar weighting values as the state variables sigma points. Correspondingly, the predicted sigma points of the may also be obtained by transforming them through the system’s output model in (2) to obtain. (𝑘|𝑘−1)=ℎ(𝒴(𝑘−1|𝑘−1),𝑞) (13) \" \" the WSLR method, the predicted output variables may then be computed as)%! (14) \" \" \"*+ residual error є (𝑘|𝑘−1) and residual covariance 𝑅 (𝑘|𝑘−1) of the output prediction are given \" (𝑘|𝑘−1)=𝒴 (𝑘|𝑘−1)−𝑦/(𝑘|𝑘−1) (15) \" \"\" )%! [є (𝑘|𝑘−1)][є (𝑘|𝑘−1)]/ \" \" \" \"*+ +𝑅 . (16) 𝑅 is the measurement noise covariance matrix. ) Kalman gain on the previously obtained state variables and output predictions, the prediction cross covariance may then as follows. )%! L𝑒 (𝑘|𝑘−1)M[є (𝑘|𝑘−1)]/ (є \" (,\" \" \"*+ +𝑅 . (17) this point, the Kalman gain of the UKF may then be updated recursively (𝑘)=𝑅 (𝑘|𝑘−1)𝑅1+(𝑘|𝑘−1). (18) (є ) Correction correction step utilizes the actual measurement data from sensors (𝑧(𝑘)) to make corrections on the computed and output predictions. By using a similar routine as in the generic KF method, the correction begins with the the innovation variable of the (𝑘)= 𝑧(𝑘)− 𝑦/(𝑘|𝑘−1). (19) the innovation 𝑜(𝑘), correction on the predicted state variables and covariance can be performed as follows. /(𝑘|𝑘)= 𝑥/(𝑘|𝑘−1)+𝐾(𝑘)𝑜(𝑘), (20) (𝑘|𝑘)=𝑃(𝑘|𝑘−1)−𝐾(𝑘)𝑅 (𝑘|𝑘−1)𝐾/(𝑘). (21) corrected values of the state variables and covariance prediction are then used in the next prediction-correction [17-22]. . CBTC & SYNCHRONIZATION . CBTC CBTC system generally consists of three major components, namely the wayside unit, on-board unit, and module between wayside and on-board units [2-4, 24]. The on-board unit consists of (i) on-board position (ii) computers which process all such sensors and use them to control the train speed. The wayside unit contains (i) the so- automatic train supervision (ATS) system which controls all of the operated trains, (ii) a zone controller and which manage some predetermined areas in certain track line, and (iii) positioning tags which calibrate the train determined by the on-board unit. MBS-based CBTC implementation relies on the so-called of movement authority which essentially is a real- exchange system that provides to each train real-time location data as well as command of movement among a particular track segment/area . While the MBS-based CBTC has the potentialto increase the line capacity, its does not provide a synchronization scheme which can ensure the attainment of a minimum possible adjacent trains. The work in has recently proposed a synchronization control scheme for MBS-based CBTC but remains limited to straight line track topology. In this work, we extend such a synchronization control approachto more general curved track lines through the introduction of an algorithm which maps curved train segments into line track. . Synchronization Control of main objective of synchronization control approach in MBS-based CBTC system is to dynamically separate adjacent a minimum safety distance and maintain such a condition for a certain period of time duration. The theoretical this approach was developed in for a particular form of straight line track. The basic idea in synchronization control in Fig. 4 which shows that the controller will be activated whenever a train enters a safe distance zone as to the train in front of it. In particular, the controller will automatically adjust the braking of the following train, down or accelerating it up until a stable minimum distance is achieved [23-24]. 𝑑 𝑑 66 3 . 1 Activation of the synchronization control. regard to Fig. 4, let us define the notion of safety margin (𝑑 ) which describes the measured distance between the (𝑥 ) and the nose (𝑥 ) of adjacent trains when they are at rest. Furthermore, we also define the braking distance 𝑑 as 6% travelled distance after a train hits the brakes until a complete stop, i.e. )(𝑘) R𝑥 (𝑘),𝑣 (𝑘)T= 6 , (22) 6 6 𝑥 (𝑘) and 𝑣 (𝑘) denote, respectively, the position and velocity of the train B, and 𝛽 is the maximum braking rate of 6 (cf. Fig. 4). Now, we define the so-called minimum distance (𝑑 (𝑘)) of synchronization as the sum of the safety : (𝑑 ) and the braking distance (𝑑 ), i.e. (𝑘)=𝑥 −𝑥 =𝑑 +𝑑 R𝑥 (𝑘),𝑣 (𝑘)T. (23) : 45 6% 3 66 6 the MBS scheme implementation, the leading train is allowed to halt suddely and is thus has a resemblance to the brick . Under this assumption, the braking or decelerating dynamics of the following train (𝛽 ) can be derived (25) to d𝑥 − 6% = 𝑑 R𝑥 (𝑘),𝑣 (𝑘)T, (24) d𝑘 d𝑘 66 6 𝜕𝑑 𝜕 (𝑘)−𝑣 (𝑘)= 66 𝑣 (𝑘)− 66 𝛽 (𝑘), (25) 6 𝜕𝑥 6 𝜕𝑣 ;<##Z+1[ (𝑘)−𝑣 (𝑘) ;(# 6 (𝑘)= , (26) ;<## ;=# 𝛽 is the the deceleration of the following train. As a result, the value of 𝛽 can be determined from (26) (𝑘)−𝑣 (𝑘) (𝑘)=𝛽 6 4 (27) 7 𝑣 (𝑘) 𝑣 ≠0 is assumed to hold. In the case where adjacent trains start to move from rest (both train speed are zero), of the leading (𝛼 ) and the following train (𝛼 ) can be computed as. (𝑘)=𝑘 𝛽 , (28) >?? @ −1+71+4𝑘 >?? (𝑘)=𝛽 , (29) 7 2where 𝑘 is a constant. >?? . EXPERIMENTAL IMPLEMENTATION section presents the experimental results that were obtained after implementing the proposed UKF SF- control methods on a lab scale CBTC system miniatyre track prototype as shown in Fig. 4. . Experimental Train train miniatures, denoted as train A and B are used in the experiment to perform the MBS scheme operation. As Fig. 4, three stations are defined on the track, namely the main station, station A and station B. The main station is where can stop while each of the remaining two is where the corresponding train can stop. In the experiment scenario, each stop twice (each for a few seconds), the first at the main station and the second at their respective station. . 1 Track dimension and RFID tags placement. of the two train miniatures is equipped with encoder while twelve RFID readers and a NodeMCU microcontroller as wayside sensor and onboard controller. The RFID tags play the role of balises in real railway system, whereas collects all sensor data and then send them to a computer located in the wayside unit through a wireless and MQTT protocol. Inside the computer, the UKF-based SF algorithm is coded in Matlab. The localization algorithm is to predict the train position using train speed data from encoder. Once the RFID data are available, the will then be calibrated using the proposed UKF-based SF method. Fig. 5 depicts the architecture of the . . 2 System architecture for sensor fusion. . UKF-based SF follow the setup of the UKF method as described in Section 2, a model for the train miniature is first derived. In this regard, train miniature is modeled as a rigid body with the following planar kinematic equation. ^𝑝 A( ‘=a1 0 b^𝑝 A( 1+ ‘+c𝑑𝑡 A1+cos(𝜃 A1+) k𝑣 (30) 0 1 𝑝B 𝑑𝑡 sin(𝜃 ) A1+ A1+ A1+ A1+ 𝑝( and 𝑝B denote, respectively, the Cartesian absis and ordinate position of the train at time k on the track, 𝜃 is the A , and 𝑣 denotes the train speed at discrete time k. It can be seen that the train kinematic contains nonlinearities in of trigonometric functions.To implement the SF task based on the UKF method, we developed a fusion scheme as shown in Fig. 6 to process the data. This diagram shows that two sensors are used in the experiment, i.e. encoder which measure the train speed and readers which detect the train exact position. From the characteristics of these sensors, we found that the exact form of kinematic model in (30) ^𝑝 A( ‘=a1 0 b^𝑝 A( 1+ ‘+0,3ccos(𝜃 A1+) k (31) 0 1 𝑝B sin(𝜃 ) A1+ A1+ . 3 Sensor fusion scheme applied in the the obtained system model, the UKF procedure for SF task can be implemented. The set of sigma points, weight, covariance for the implementation are defined below. The values of related parameters in these equations are Table 1. With these experimental model and parameters, the UKF-based SF procedure as described in Section 2 can be executed. ` =𝒳 +𝛼 (𝒳 −𝒳 ) (32) \" ! EAF \" ! ⎧ ! +X −1[𝑖 = ⎪𝛼 ) 𝛼 ) ` = (33) \" ⎨ ⎪ 𝑖 ≠ ⎩ 𝛼 ) ` = (𝑊 +1+𝛽 −𝛼 ))R𝒴` −y/T5 R𝒴` −y/ ! EAF EAF ! ! +𝑅 (34) 1 UKF parameter used in the Value deviation of the used sensors. Smaller value indicates better : σ_RFID 7: reliability. the distribution of sigma points with respect to the mean value. 0. means close-to-mean sigma points. 2 Represents the system distribution where a value of 2 means Gaussion . Synchronization Control implementation of the synchronization control for MBS-based scheme was performed based on the following rules. • The two trains depart from the same initial • The following train maintains the safe distance with the leading train and must stop when the leading train is picking at a • Both train arrive at the same , these conditions are used ensure a collison-free operation of the trains during the experiment. The control algorithm receives the train position (𝑥 and 𝑥 ) from the UKF-based SF result as described in subsection, whereas the train speed (𝑣 and 𝑣 ) are determined from encoder sensor data. The synchronization is evaluated using a predefined safe distance parameter of 𝑑 (𝑘)=27𝑐𝑚 and an acceleration rate of 𝑘 =−1. : >??chosen minimum distance essentially means that the inter-train minimum distance is the same as the length of the train. Thus, on the synchronization control approach as described in Section III, the acceleration/deccelaration rate (𝛽 ) of the can be determined and then sent to the actuating motor to be calibrated to a train speed value (𝑣 ) of the form. (𝑘+1)=𝑣 (𝑘)+𝛽 (𝑘)Δ𝑡 (38) 6 Δ𝑡 is the ampling time of the encoder. . RESULTS AND . UKF-based SF Implementation experimental evaluation of the proposed UKF-based SF is performed in two trials, the results of which are shown in Fig. and Fig. 3. In these figures, the red cross and blue circle marks denote the position of Train A and Train B, respectively. be seen in these two plots that the proposed UKF-based SF method effectively estimates the positions of both train based and RFID reader data. Moreover, the proposed localization method accurately show that the distribution of each mark dense in each of the defined station to indicate that each train is slowing down and/or comes to a stop. . 2 UKF-based SF implementation result (trial 1). . 3 UKF-based SF implementation result (trial 2). 2 RMSE value of the train localization task. Mean Square Error Value (cm) Trial x_enc y_enc x_ukf 3.2 7.6 0.5 0. 5.6 4.3 0.8 0. 3.3 3.4 0.7 0. 3.4 4.7 0.6 0. 3.9 5.0 0.7 0.8We further compare the performance of the localization when using single sensor data (i.e. encoder) and that when using method. Based on the summary of root mean square error (RMSE) results in Table 2, it can be seen that the estimation the SF-based localization method are significantly smaller than those based on single sensor data (both for individual estimation and in average). These results thus show that the the proposed UKF-based SF method has the potential the accuracy of the train localization system at a significant level. The obtained high accuracy localization result is beneficial to support the CBTC implementation under the MBS scheme. . Synchronization Control Implementation experimental evaluations of synchronization control as proposed in this paper are conducted to compare the train under the FBS scheme and that under MBS scheme with synchronization control. The results of these shown in Fig. 4 and Fig. 5 which plot the graphs of Position vs Time of each train under the FBS and MBS scheme, , for one full lap of the track. Both graphs in each of these figures essentially show the distance between the two a signaling block. can be seen in these figures that the average inter-train distance in the FBS scheme is about 162 cm, whereas the inter- in the MBS scheme that is equipped with the proposed synchronization control approach is only about 72 cm. thus show that, compared to the FBS scheme implementation, the proposed MBS with synchronization control capable of reducing the operational headway up to 56%. These figures also show that the two trains in the MBS control scheme only need 7 seconds to complete one full, whereas the FBS scheme requires 16 seconds the same lap. These results thus clearly demonstrate the effectiveness of the proposed MBS with synchronization in reducing the train operational headway and travel time. . 4 Position vs. time graph of two trains under FBS scheme. . 5 Position vs. time graph of two trains under MBS . paper has reported the experimental results that were obtained when implementing a UKF-based sensor fusion train localization in CBTC system under the MBS scheme. The presented localization results showed that the proposed UKF- sensor fusion method significantly improve the accuracy of the train position estimation. Furthermore, the of the MBS scheme implementation under the proposed synchronization control approach successfully reduce train headways and travel time. These results suggest that the sensor fusion-based synchronization control a promising potential to improve the performance of CBTC systems. works was supported by the P3MI Program 2018 at Institut Teknologi Bandung, and in part by USAID through program under grant no. IIE00000078-ITB-1.'"
      ]
     },
     "execution_count": 191,
     "metadata": {},
     "output_type": "execute_result"
    }
   ],
   "source": [
    "clean_text"
   ]
  },
  {
   "cell_type": "markdown",
   "metadata": {},
   "source": [
    "<h1><center>End of The Code"
   ]
  }
 ],
 "metadata": {
  "colab": {
   "provenance": []
  },
  "kernelspec": {
   "display_name": "Python 3 (ipykernel)",
   "language": "python",
   "name": "python3"
  },
  "language_info": {
   "codemirror_mode": {
    "name": "ipython",
    "version": 3
   },
   "file_extension": ".py",
   "mimetype": "text/x-python",
   "name": "python",
   "nbconvert_exporter": "python",
   "pygments_lexer": "ipython3",
   "version": "3.10.9"
  },
  "widgets": {
   "application/vnd.jupyter.widget-state+json": {
    "4157d9252c83432ea6a81f30c8c62ca6": {
     "model_module": "@jupyter-widgets/controls",
     "model_module_version": "1.5.0",
     "model_name": "ButtonStyleModel",
     "state": {
      "_model_module": "@jupyter-widgets/controls",
      "_model_module_version": "1.5.0",
      "_model_name": "ButtonStyleModel",
      "_view_count": null,
      "_view_module": "@jupyter-widgets/base",
      "_view_module_version": "1.2.0",
      "_view_name": "StyleView",
      "button_color": null,
      "font_weight": ""
     }
    },
    "44cc2351c5694c159a24915c813fa9c4": {
     "model_module": "@jupyter-widgets/controls",
     "model_module_version": "1.5.0",
     "model_name": "HTMLModel",
     "state": {
      "_dom_classes": [],
      "_model_module": "@jupyter-widgets/controls",
      "_model_module_version": "1.5.0",
      "_model_name": "HTMLModel",
      "_view_count": null,
      "_view_module": "@jupyter-widgets/controls",
      "_view_module_version": "1.5.0",
      "_view_name": "HTMLView",
      "description": "",
      "description_tooltip": null,
      "layout": "IPY_MODEL_6becc727d3b54ce0811fe9fd5f353fc5",
      "placeholder": "​",
      "style": "IPY_MODEL_476cecfa2b0948b2bbd33970234f12fa",
      "value": "<h1>PDF Summarizer Group 16</h1>"
     }
    },
    "476cecfa2b0948b2bbd33970234f12fa": {
     "model_module": "@jupyter-widgets/controls",
     "model_module_version": "1.5.0",
     "model_name": "DescriptionStyleModel",
     "state": {
      "_model_module": "@jupyter-widgets/controls",
      "_model_module_version": "1.5.0",
      "_model_name": "DescriptionStyleModel",
      "_view_count": null,
      "_view_module": "@jupyter-widgets/base",
      "_view_module_version": "1.2.0",
      "_view_name": "StyleView",
      "description_width": ""
     }
    },
    "52f25255dfb54e7cbb62e8f97dbb6eb6": {
     "model_module": "@jupyter-widgets/controls",
     "model_module_version": "1.5.0",
     "model_name": "ButtonModel",
     "state": {
      "_dom_classes": [],
      "_model_module": "@jupyter-widgets/controls",
      "_model_module_version": "1.5.0",
      "_model_name": "ButtonModel",
      "_view_count": null,
      "_view_module": "@jupyter-widgets/controls",
      "_view_module_version": "1.5.0",
      "_view_name": "ButtonView",
      "button_style": "",
      "description": "Submit",
      "disabled": false,
      "icon": "",
      "layout": "IPY_MODEL_f144cfd28a4c4280ac7313dcefc61cb8",
      "style": "IPY_MODEL_4157d9252c83432ea6a81f30c8c62ca6",
      "tooltip": ""
     }
    },
    "6becc727d3b54ce0811fe9fd5f353fc5": {
     "model_module": "@jupyter-widgets/base",
     "model_module_version": "1.2.0",
     "model_name": "LayoutModel",
     "state": {
      "_model_module": "@jupyter-widgets/base",
      "_model_module_version": "1.2.0",
      "_model_name": "LayoutModel",
      "_view_count": null,
      "_view_module": "@jupyter-widgets/base",
      "_view_module_version": "1.2.0",
      "_view_name": "LayoutView",
      "align_content": null,
      "align_items": null,
      "align_self": null,
      "border": null,
      "bottom": null,
      "display": null,
      "flex": null,
      "flex_flow": null,
      "grid_area": null,
      "grid_auto_columns": null,
      "grid_auto_flow": null,
      "grid_auto_rows": null,
      "grid_column": null,
      "grid_gap": null,
      "grid_row": null,
      "grid_template_areas": null,
      "grid_template_columns": null,
      "grid_template_rows": null,
      "height": null,
      "justify_content": null,
      "justify_items": null,
      "left": null,
      "margin": null,
      "max_height": null,
      "max_width": null,
      "min_height": null,
      "min_width": null,
      "object_fit": null,
      "object_position": null,
      "order": null,
      "overflow": null,
      "overflow_x": null,
      "overflow_y": null,
      "padding": null,
      "right": null,
      "top": null,
      "visibility": null,
      "width": null
     }
    },
    "f13301594d254a0ab34de8847026fa99": {
     "model_module": "@jupyter-widgets/controls",
     "model_module_version": "1.5.0",
     "model_name": "DescriptionStyleModel",
     "state": {
      "_model_module": "@jupyter-widgets/controls",
      "_model_module_version": "1.5.0",
      "_model_name": "DescriptionStyleModel",
      "_view_count": null,
      "_view_module": "@jupyter-widgets/base",
      "_view_module_version": "1.2.0",
      "_view_name": "StyleView",
      "description_width": ""
     }
    },
    "f144cfd28a4c4280ac7313dcefc61cb8": {
     "model_module": "@jupyter-widgets/base",
     "model_module_version": "1.2.0",
     "model_name": "LayoutModel",
     "state": {
      "_model_module": "@jupyter-widgets/base",
      "_model_module_version": "1.2.0",
      "_model_name": "LayoutModel",
      "_view_count": null,
      "_view_module": "@jupyter-widgets/base",
      "_view_module_version": "1.2.0",
      "_view_name": "LayoutView",
      "align_content": null,
      "align_items": null,
      "align_self": null,
      "border": null,
      "bottom": null,
      "display": null,
      "flex": null,
      "flex_flow": null,
      "grid_area": null,
      "grid_auto_columns": null,
      "grid_auto_flow": null,
      "grid_auto_rows": null,
      "grid_column": null,
      "grid_gap": null,
      "grid_row": null,
      "grid_template_areas": null,
      "grid_template_columns": null,
      "grid_template_rows": null,
      "height": null,
      "justify_content": null,
      "justify_items": null,
      "left": null,
      "margin": null,
      "max_height": null,
      "max_width": null,
      "min_height": null,
      "min_width": null,
      "object_fit": null,
      "object_position": null,
      "order": null,
      "overflow": null,
      "overflow_x": null,
      "overflow_y": null,
      "padding": null,
      "right": null,
      "top": null,
      "visibility": null,
      "width": null
     }
    },
    "f4212788cca7417eba82e99b424ebe45": {
     "model_module": "@jupyter-widgets/base",
     "model_module_version": "1.2.0",
     "model_name": "LayoutModel",
     "state": {
      "_model_module": "@jupyter-widgets/base",
      "_model_module_version": "1.2.0",
      "_model_name": "LayoutModel",
      "_view_count": null,
      "_view_module": "@jupyter-widgets/base",
      "_view_module_version": "1.2.0",
      "_view_name": "LayoutView",
      "align_content": null,
      "align_items": null,
      "align_self": null,
      "border": null,
      "bottom": null,
      "display": null,
      "flex": null,
      "flex_flow": null,
      "grid_area": null,
      "grid_auto_columns": null,
      "grid_auto_flow": null,
      "grid_auto_rows": null,
      "grid_column": null,
      "grid_gap": null,
      "grid_row": null,
      "grid_template_areas": null,
      "grid_template_columns": null,
      "grid_template_rows": null,
      "height": null,
      "justify_content": null,
      "justify_items": null,
      "left": null,
      "margin": null,
      "max_height": null,
      "max_width": null,
      "min_height": null,
      "min_width": null,
      "object_fit": null,
      "object_position": null,
      "order": null,
      "overflow": null,
      "overflow_x": null,
      "overflow_y": null,
      "padding": null,
      "right": null,
      "top": null,
      "visibility": null,
      "width": null
     }
    },
    "f688d9f8005d4012b73dbefd5ef066f7": {
     "model_module": "@jupyter-widgets/controls",
     "model_module_version": "1.5.0",
     "model_name": "DropdownModel",
     "state": {
      "_dom_classes": [],
      "_model_module": "@jupyter-widgets/controls",
      "_model_module_version": "1.5.0",
      "_model_name": "DropdownModel",
      "_options_labels": [
       "Extractive",
       "Abstractive"
      ],
      "_view_count": null,
      "_view_module": "@jupyter-widgets/controls",
      "_view_module_version": "1.5.0",
      "_view_name": "DropdownView",
      "description": "Summarization Type:",
      "description_tooltip": null,
      "disabled": false,
      "index": 1,
      "layout": "IPY_MODEL_f4212788cca7417eba82e99b424ebe45",
      "style": "IPY_MODEL_f13301594d254a0ab34de8847026fa99"
     }
    }
   }
  }
 },
 "nbformat": 4,
 "nbformat_minor": 1
}
